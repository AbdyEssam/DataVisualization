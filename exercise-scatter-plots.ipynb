{
 "cells": [
  {
   "cell_type": "markdown",
   "id": "57171a2b",
   "metadata": {
    "papermill": {
     "duration": 0.012612,
     "end_time": "2022-06-23T00:03:08.784494",
     "exception": false,
     "start_time": "2022-06-23T00:03:08.771882",
     "status": "completed"
    },
    "tags": []
   },
   "source": [
    "**This notebook is an exercise in the [Data Visualization](https://www.kaggle.com/learn/data-visualization) course.  You can reference the tutorial at [this link](https://www.kaggle.com/alexisbcook/scatter-plots).**\n",
    "\n",
    "---\n"
   ]
  },
  {
   "cell_type": "markdown",
   "id": "92a3c503",
   "metadata": {
    "papermill": {
     "duration": 0.010375,
     "end_time": "2022-06-23T00:03:08.806136",
     "exception": false,
     "start_time": "2022-06-23T00:03:08.795761",
     "status": "completed"
    },
    "tags": []
   },
   "source": [
    "In this exercise, you will use your new knowledge to propose a solution to a real-world scenario.  To succeed, you will need to import data into Python, answer questions using the data, and generate **scatter plots** to understand patterns in the data.\n",
    "\n",
    "## Scenario\n",
    "\n",
    "You work for a major candy producer, and your goal is to write a report that your company can use to guide the design of its next product.  Soon after starting your research, you stumble across this [very interesting dataset](https://fivethirtyeight.com/features/the-ultimate-halloween-candy-power-ranking/) containing results from a fun survey to crowdsource favorite candies.\n",
    "\n",
    "## Setup\n",
    "\n",
    "Run the next cell to import and configure the Python libraries that you need to complete the exercise."
   ]
  },
  {
   "cell_type": "code",
   "execution_count": 1,
   "id": "09c627f0",
   "metadata": {
    "execution": {
     "iopub.execute_input": "2022-06-23T00:03:08.831352Z",
     "iopub.status.busy": "2022-06-23T00:03:08.830777Z",
     "iopub.status.idle": "2022-06-23T00:03:10.251873Z",
     "shell.execute_reply": "2022-06-23T00:03:10.249999Z"
    },
    "papermill": {
     "duration": 1.437781,
     "end_time": "2022-06-23T00:03:10.255229",
     "exception": false,
     "start_time": "2022-06-23T00:03:08.817448",
     "status": "completed"
    },
    "tags": []
   },
   "outputs": [
    {
     "name": "stdout",
     "output_type": "stream",
     "text": [
      "Setup Complete\n"
     ]
    }
   ],
   "source": [
    "import pandas as pd\n",
    "pd.plotting.register_matplotlib_converters()\n",
    "import matplotlib.pyplot as plt\n",
    "%matplotlib inline\n",
    "import seaborn as sns\n",
    "print(\"Setup Complete\")"
   ]
  },
  {
   "cell_type": "markdown",
   "id": "f2ab7ba6",
   "metadata": {
    "papermill": {
     "duration": 0.010699,
     "end_time": "2022-06-23T00:03:10.277472",
     "exception": false,
     "start_time": "2022-06-23T00:03:10.266773",
     "status": "completed"
    },
    "tags": []
   },
   "source": [
    "The questions below will give you feedback on your work. Run the following cell to set up our feedback system."
   ]
  },
  {
   "cell_type": "code",
   "execution_count": 2,
   "id": "9159c10b",
   "metadata": {
    "execution": {
     "iopub.execute_input": "2022-06-23T00:03:10.301307Z",
     "iopub.status.busy": "2022-06-23T00:03:10.300866Z",
     "iopub.status.idle": "2022-06-23T00:03:10.378971Z",
     "shell.execute_reply": "2022-06-23T00:03:10.378082Z"
    },
    "papermill": {
     "duration": 0.093019,
     "end_time": "2022-06-23T00:03:10.381491",
     "exception": false,
     "start_time": "2022-06-23T00:03:10.288472",
     "status": "completed"
    },
    "tags": []
   },
   "outputs": [
    {
     "name": "stdout",
     "output_type": "stream",
     "text": [
      "Setup Complete\n"
     ]
    }
   ],
   "source": [
    "# Set up code checking\n",
    "import os\n",
    "if not os.path.exists(\"../input/candy.csv\"):\n",
    "    os.symlink(\"../input/data-for-datavis/candy.csv\", \"../input/candy.csv\") \n",
    "from learntools.core import binder\n",
    "binder.bind(globals())\n",
    "from learntools.data_viz_to_coder.ex4 import *\n",
    "print(\"Setup Complete\")"
   ]
  },
  {
   "cell_type": "markdown",
   "id": "6c9cdca7",
   "metadata": {
    "papermill": {
     "duration": 0.010643,
     "end_time": "2022-06-23T00:03:10.403087",
     "exception": false,
     "start_time": "2022-06-23T00:03:10.392444",
     "status": "completed"
    },
    "tags": []
   },
   "source": [
    "## Step 1: Load the Data\n",
    "\n",
    "Read the candy data file into `candy_data`.  Use the `\"id\"` column to label the rows."
   ]
  },
  {
   "cell_type": "code",
   "execution_count": null,
   "id": "9eea443a",
   "metadata": {
    "papermill": {
     "duration": 0.010432,
     "end_time": "2022-06-23T00:03:10.424366",
     "exception": false,
     "start_time": "2022-06-23T00:03:10.413934",
     "status": "completed"
    },
    "tags": []
   },
   "outputs": [],
   "source": []
  },
  {
   "cell_type": "code",
   "execution_count": 3,
   "id": "0d5c62a3",
   "metadata": {
    "execution": {
     "iopub.execute_input": "2022-06-23T00:03:10.447971Z",
     "iopub.status.busy": "2022-06-23T00:03:10.447558Z",
     "iopub.status.idle": "2022-06-23T00:03:10.464079Z",
     "shell.execute_reply": "2022-06-23T00:03:10.462878Z"
    },
    "papermill": {
     "duration": 0.031521,
     "end_time": "2022-06-23T00:03:10.466736",
     "exception": false,
     "start_time": "2022-06-23T00:03:10.435215",
     "status": "completed"
    },
    "tags": []
   },
   "outputs": [
    {
     "data": {
      "application/javascript": [
       "parent.postMessage({\"jupyterEvent\": \"custom.exercise_interaction\", \"data\": {\"outcomeType\": 1, \"valueTowardsCompletion\": 0.3333333333333333, \"interactionType\": 1, \"questionType\": 1, \"questionId\": \"1_LoadData\", \"learnToolsVersion\": \"0.3.4\", \"failureMessage\": \"\", \"exceptionClass\": \"\", \"trace\": \"\"}}, \"*\")"
      ],
      "text/plain": [
       "<IPython.core.display.Javascript object>"
      ]
     },
     "metadata": {},
     "output_type": "display_data"
    },
    {
     "data": {
      "text/markdown": [
       "<span style=\"color:#33cc33\">Correct</span>"
      ],
      "text/plain": [
       "Correct"
      ]
     },
     "metadata": {},
     "output_type": "display_data"
    }
   ],
   "source": [
    "# Path of the file to read\n",
    "candy_filepath = \"../input/candy.csv\"\n",
    "\n",
    "# Fill in the line below to read the file into a variable candy_data\n",
    "candy_data = pd.read_csv(candy_filepath,index_col=\"id\")\n",
    "\n",
    "# Run the line below with no changes to check that you've loaded the data correctly\n",
    "step_1.check()"
   ]
  },
  {
   "cell_type": "code",
   "execution_count": 4,
   "id": "bf293cda",
   "metadata": {
    "execution": {
     "iopub.execute_input": "2022-06-23T00:03:10.493408Z",
     "iopub.status.busy": "2022-06-23T00:03:10.493019Z",
     "iopub.status.idle": "2022-06-23T00:03:10.497391Z",
     "shell.execute_reply": "2022-06-23T00:03:10.496207Z"
    },
    "papermill": {
     "duration": 0.020367,
     "end_time": "2022-06-23T00:03:10.499892",
     "exception": false,
     "start_time": "2022-06-23T00:03:10.479525",
     "status": "completed"
    },
    "tags": []
   },
   "outputs": [],
   "source": [
    "# Lines below will give you a hint or solution code\n",
    "#step_1.hint()\n",
    "#step_1.solution()"
   ]
  },
  {
   "cell_type": "markdown",
   "id": "9d92552d",
   "metadata": {
    "papermill": {
     "duration": 0.015826,
     "end_time": "2022-06-23T00:03:10.527683",
     "exception": false,
     "start_time": "2022-06-23T00:03:10.511857",
     "status": "completed"
    },
    "tags": []
   },
   "source": [
    "## Step 2: Review the data\n",
    "\n",
    "Use a Python command to print the first five rows of the data."
   ]
  },
  {
   "cell_type": "code",
   "execution_count": 5,
   "id": "e3fc8790",
   "metadata": {
    "execution": {
     "iopub.execute_input": "2022-06-23T00:03:10.553713Z",
     "iopub.status.busy": "2022-06-23T00:03:10.553277Z",
     "iopub.status.idle": "2022-06-23T00:03:10.578806Z",
     "shell.execute_reply": "2022-06-23T00:03:10.577570Z"
    },
    "papermill": {
     "duration": 0.040899,
     "end_time": "2022-06-23T00:03:10.581348",
     "exception": false,
     "start_time": "2022-06-23T00:03:10.540449",
     "status": "completed"
    },
    "tags": []
   },
   "outputs": [
    {
     "data": {
      "text/html": [
       "<div>\n",
       "<style scoped>\n",
       "    .dataframe tbody tr th:only-of-type {\n",
       "        vertical-align: middle;\n",
       "    }\n",
       "\n",
       "    .dataframe tbody tr th {\n",
       "        vertical-align: top;\n",
       "    }\n",
       "\n",
       "    .dataframe thead th {\n",
       "        text-align: right;\n",
       "    }\n",
       "</style>\n",
       "<table border=\"1\" class=\"dataframe\">\n",
       "  <thead>\n",
       "    <tr style=\"text-align: right;\">\n",
       "      <th></th>\n",
       "      <th>competitorname</th>\n",
       "      <th>chocolate</th>\n",
       "      <th>fruity</th>\n",
       "      <th>caramel</th>\n",
       "      <th>peanutyalmondy</th>\n",
       "      <th>nougat</th>\n",
       "      <th>crispedricewafer</th>\n",
       "      <th>hard</th>\n",
       "      <th>bar</th>\n",
       "      <th>pluribus</th>\n",
       "      <th>sugarpercent</th>\n",
       "      <th>pricepercent</th>\n",
       "      <th>winpercent</th>\n",
       "    </tr>\n",
       "    <tr>\n",
       "      <th>id</th>\n",
       "      <th></th>\n",
       "      <th></th>\n",
       "      <th></th>\n",
       "      <th></th>\n",
       "      <th></th>\n",
       "      <th></th>\n",
       "      <th></th>\n",
       "      <th></th>\n",
       "      <th></th>\n",
       "      <th></th>\n",
       "      <th></th>\n",
       "      <th></th>\n",
       "      <th></th>\n",
       "    </tr>\n",
       "  </thead>\n",
       "  <tbody>\n",
       "    <tr>\n",
       "      <th>0</th>\n",
       "      <td>100 Grand</td>\n",
       "      <td>Yes</td>\n",
       "      <td>No</td>\n",
       "      <td>Yes</td>\n",
       "      <td>No</td>\n",
       "      <td>No</td>\n",
       "      <td>Yes</td>\n",
       "      <td>No</td>\n",
       "      <td>Yes</td>\n",
       "      <td>No</td>\n",
       "      <td>0.732</td>\n",
       "      <td>0.860</td>\n",
       "      <td>66.971725</td>\n",
       "    </tr>\n",
       "    <tr>\n",
       "      <th>1</th>\n",
       "      <td>3 Musketeers</td>\n",
       "      <td>Yes</td>\n",
       "      <td>No</td>\n",
       "      <td>No</td>\n",
       "      <td>No</td>\n",
       "      <td>Yes</td>\n",
       "      <td>No</td>\n",
       "      <td>No</td>\n",
       "      <td>Yes</td>\n",
       "      <td>No</td>\n",
       "      <td>0.604</td>\n",
       "      <td>0.511</td>\n",
       "      <td>67.602936</td>\n",
       "    </tr>\n",
       "    <tr>\n",
       "      <th>2</th>\n",
       "      <td>Air Heads</td>\n",
       "      <td>No</td>\n",
       "      <td>Yes</td>\n",
       "      <td>No</td>\n",
       "      <td>No</td>\n",
       "      <td>No</td>\n",
       "      <td>No</td>\n",
       "      <td>No</td>\n",
       "      <td>No</td>\n",
       "      <td>No</td>\n",
       "      <td>0.906</td>\n",
       "      <td>0.511</td>\n",
       "      <td>52.341465</td>\n",
       "    </tr>\n",
       "    <tr>\n",
       "      <th>3</th>\n",
       "      <td>Almond Joy</td>\n",
       "      <td>Yes</td>\n",
       "      <td>No</td>\n",
       "      <td>No</td>\n",
       "      <td>Yes</td>\n",
       "      <td>No</td>\n",
       "      <td>No</td>\n",
       "      <td>No</td>\n",
       "      <td>Yes</td>\n",
       "      <td>No</td>\n",
       "      <td>0.465</td>\n",
       "      <td>0.767</td>\n",
       "      <td>50.347546</td>\n",
       "    </tr>\n",
       "    <tr>\n",
       "      <th>4</th>\n",
       "      <td>Baby Ruth</td>\n",
       "      <td>Yes</td>\n",
       "      <td>No</td>\n",
       "      <td>Yes</td>\n",
       "      <td>Yes</td>\n",
       "      <td>Yes</td>\n",
       "      <td>No</td>\n",
       "      <td>No</td>\n",
       "      <td>Yes</td>\n",
       "      <td>No</td>\n",
       "      <td>0.604</td>\n",
       "      <td>0.767</td>\n",
       "      <td>56.914547</td>\n",
       "    </tr>\n",
       "  </tbody>\n",
       "</table>\n",
       "</div>"
      ],
      "text/plain": [
       "   competitorname chocolate fruity caramel peanutyalmondy nougat  \\\n",
       "id                                                                 \n",
       "0       100 Grand       Yes     No     Yes             No     No   \n",
       "1    3 Musketeers       Yes     No      No             No    Yes   \n",
       "2       Air Heads        No    Yes      No             No     No   \n",
       "3      Almond Joy       Yes     No      No            Yes     No   \n",
       "4       Baby Ruth       Yes     No     Yes            Yes    Yes   \n",
       "\n",
       "   crispedricewafer hard  bar pluribus  sugarpercent  pricepercent  winpercent  \n",
       "id                                                                              \n",
       "0               Yes   No  Yes       No         0.732         0.860   66.971725  \n",
       "1                No   No  Yes       No         0.604         0.511   67.602936  \n",
       "2                No   No   No       No         0.906         0.511   52.341465  \n",
       "3                No   No  Yes       No         0.465         0.767   50.347546  \n",
       "4                No   No  Yes       No         0.604         0.767   56.914547  "
      ]
     },
     "execution_count": 5,
     "metadata": {},
     "output_type": "execute_result"
    }
   ],
   "source": [
    "# Print the first five rows of the data\n",
    "candy_data.head() # Your code here"
   ]
  },
  {
   "cell_type": "markdown",
   "id": "ac40cdb1",
   "metadata": {
    "papermill": {
     "duration": 0.010695,
     "end_time": "2022-06-23T00:03:10.603262",
     "exception": false,
     "start_time": "2022-06-23T00:03:10.592567",
     "status": "completed"
    },
    "tags": []
   },
   "source": [
    "The dataset contains 83 rows, where each corresponds to a different candy bar.  There are 13 columns:\n",
    "- `'competitorname'` contains the name of the candy bar. \n",
    "- the next **9** columns (from `'chocolate'` to `'pluribus'`) describe the candy.  For instance, rows with chocolate candies have `\"Yes\"` in the `'chocolate'` column (and candies without chocolate have `\"No\"` in the same column).\n",
    "- `'sugarpercent'` provides some indication of the amount of sugar, where higher values signify higher sugar content.\n",
    "- `'pricepercent'` shows the price per unit, relative to the other candies in the dataset.\n",
    "- `'winpercent'` is calculated from the survey results; higher values indicate that the candy was more popular with survey respondents.\n",
    "\n",
    "Use the first five rows of the data to answer the questions below."
   ]
  },
  {
   "cell_type": "code",
   "execution_count": 6,
   "id": "786161d3",
   "metadata": {
    "execution": {
     "iopub.execute_input": "2022-06-23T00:03:10.627263Z",
     "iopub.status.busy": "2022-06-23T00:03:10.626854Z",
     "iopub.status.idle": "2022-06-23T00:03:10.636416Z",
     "shell.execute_reply": "2022-06-23T00:03:10.635367Z"
    },
    "papermill": {
     "duration": 0.024275,
     "end_time": "2022-06-23T00:03:10.638615",
     "exception": false,
     "start_time": "2022-06-23T00:03:10.614340",
     "status": "completed"
    },
    "tags": []
   },
   "outputs": [
    {
     "data": {
      "application/javascript": [
       "parent.postMessage({\"jupyterEvent\": \"custom.exercise_interaction\", \"data\": {\"outcomeType\": 1, \"valueTowardsCompletion\": 0.3333333333333333, \"interactionType\": 1, \"questionType\": 1, \"questionId\": \"2_ReviewData\", \"learnToolsVersion\": \"0.3.4\", \"failureMessage\": \"\", \"exceptionClass\": \"\", \"trace\": \"\"}}, \"*\")"
      ],
      "text/plain": [
       "<IPython.core.display.Javascript object>"
      ]
     },
     "metadata": {},
     "output_type": "display_data"
    },
    {
     "data": {
      "text/markdown": [
       "<span style=\"color:#33cc33\">Correct</span>"
      ],
      "text/plain": [
       "Correct"
      ]
     },
     "metadata": {},
     "output_type": "display_data"
    }
   ],
   "source": [
    "# Fill in the line below: Which candy was more popular with survey respondents:\n",
    "# '3 Musketeers' or 'Almond Joy'?  (Please enclose your answer in single quotes.)\n",
    "more_popular = '3 Musketeers'\n",
    "\n",
    "# Fill in the line below: Which candy has higher sugar content: 'Air Heads'\n",
    "# or 'Baby Ruth'? (Please enclose your answer in single quotes.)\n",
    "more_sugar = 'Air Heads'\n",
    "\n",
    "# Check your answers\n",
    "step_2.check()"
   ]
  },
  {
   "cell_type": "code",
   "execution_count": 7,
   "id": "967465e8",
   "metadata": {
    "execution": {
     "iopub.execute_input": "2022-06-23T00:03:10.663123Z",
     "iopub.status.busy": "2022-06-23T00:03:10.662505Z",
     "iopub.status.idle": "2022-06-23T00:03:10.666463Z",
     "shell.execute_reply": "2022-06-23T00:03:10.665417Z"
    },
    "papermill": {
     "duration": 0.019056,
     "end_time": "2022-06-23T00:03:10.668783",
     "exception": false,
     "start_time": "2022-06-23T00:03:10.649727",
     "status": "completed"
    },
    "tags": []
   },
   "outputs": [],
   "source": [
    "# Lines below will give you a hint or solution code\n",
    "#step_2.hint()\n",
    "#step_2.solution()"
   ]
  },
  {
   "cell_type": "markdown",
   "id": "90d5654d",
   "metadata": {
    "papermill": {
     "duration": 0.011145,
     "end_time": "2022-06-23T00:03:10.691654",
     "exception": false,
     "start_time": "2022-06-23T00:03:10.680509",
     "status": "completed"
    },
    "tags": []
   },
   "source": [
    "## Step 3: The role of sugar\n",
    "\n",
    "Do people tend to prefer candies with higher sugar content?  \n",
    "\n",
    "#### Part A\n",
    "\n",
    "Create a scatter plot that shows the relationship between `'sugarpercent'` (on the horizontal x-axis) and `'winpercent'` (on the vertical y-axis).  _Don't add a regression line just yet -- you'll do that in the next step!_"
   ]
  },
  {
   "cell_type": "code",
   "execution_count": 8,
   "id": "ae775ac6",
   "metadata": {
    "execution": {
     "iopub.execute_input": "2022-06-23T00:03:10.716859Z",
     "iopub.status.busy": "2022-06-23T00:03:10.716444Z",
     "iopub.status.idle": "2022-06-23T00:03:10.985065Z",
     "shell.execute_reply": "2022-06-23T00:03:10.983462Z"
    },
    "papermill": {
     "duration": 0.284842,
     "end_time": "2022-06-23T00:03:10.988226",
     "exception": false,
     "start_time": "2022-06-23T00:03:10.703384",
     "status": "completed"
    },
    "tags": []
   },
   "outputs": [
    {
     "data": {
      "application/javascript": [
       "parent.postMessage({\"jupyterEvent\": \"custom.exercise_interaction\", \"data\": {\"outcomeType\": 1, \"valueTowardsCompletion\": 0.3333333333333333, \"interactionType\": 1, \"questionType\": 2, \"questionId\": \"3.1_PlotBlueScatter\", \"learnToolsVersion\": \"0.3.4\", \"failureMessage\": \"\", \"exceptionClass\": \"\", \"trace\": \"\"}}, \"*\")"
      ],
      "text/plain": [
       "<IPython.core.display.Javascript object>"
      ]
     },
     "metadata": {},
     "output_type": "display_data"
    },
    {
     "data": {
      "text/markdown": [
       "<span style=\"color:#33cc33\">Correct</span>"
      ],
      "text/plain": [
       "Correct"
      ]
     },
     "metadata": {},
     "output_type": "display_data"
    },
    {
     "data": {
      "image/png": "[encoded data removed]",
      "text/plain": [
       "<Figure size 432x288 with 1 Axes>"
      ]
     },
     "metadata": {
      "needs_background": "light"
     },
     "output_type": "display_data"
    }
   ],
   "source": [
    "# Scatter plot showing the relationship between 'sugarpercent' and 'winpercent'\n",
    "sns.scatterplot(x=candy_data['sugarpercent'],y=candy_data['winpercent'])# Your code here\n",
    "\n",
    "# Check your answer\n",
    "step_3.a.check()"
   ]
  },
  {
   "cell_type": "code",
   "execution_count": 9,
   "id": "cb7d7ef7",
   "metadata": {
    "execution": {
     "iopub.execute_input": "2022-06-23T00:03:11.015959Z",
     "iopub.status.busy": "2022-06-23T00:03:11.014938Z",
     "iopub.status.idle": "2022-06-23T00:03:11.019685Z",
     "shell.execute_reply": "2022-06-23T00:03:11.018734Z"
    },
    "papermill": {
     "duration": 0.02144,
     "end_time": "2022-06-23T00:03:11.021841",
     "exception": false,
     "start_time": "2022-06-23T00:03:11.000401",
     "status": "completed"
    },
    "tags": []
   },
   "outputs": [],
   "source": [
    "# Lines below will give you a hint or solution code\n",
    "#step_3.a.hint()\n",
    "#step_3.a.solution_plot()"
   ]
  },
  {
   "cell_type": "markdown",
   "id": "3b5cbfb2",
   "metadata": {
    "papermill": {
     "duration": 0.011487,
     "end_time": "2022-06-23T00:03:11.045967",
     "exception": false,
     "start_time": "2022-06-23T00:03:11.034480",
     "status": "completed"
    },
    "tags": []
   },
   "source": [
    "#### Part B\n",
    "\n",
    "Does the scatter plot show a **strong** correlation between the two variables?  If so, are candies with more sugar relatively more or less popular with the survey respondents?"
   ]
  },
  {
   "cell_type": "code",
   "execution_count": 10,
   "id": "8655bd1f",
   "metadata": {
    "execution": {
     "iopub.execute_input": "2022-06-23T00:03:11.072252Z",
     "iopub.status.busy": "2022-06-23T00:03:11.071377Z",
     "iopub.status.idle": "2022-06-23T00:03:11.076564Z",
     "shell.execute_reply": "2022-06-23T00:03:11.075449Z"
    },
    "papermill": {
     "duration": 0.021428,
     "end_time": "2022-06-23T00:03:11.079237",
     "exception": false,
     "start_time": "2022-06-23T00:03:11.057809",
     "status": "completed"
    },
    "tags": []
   },
   "outputs": [],
   "source": [
    "#step_3.b.hint()"
   ]
  },
  {
   "cell_type": "code",
   "execution_count": 11,
   "id": "a4b91344",
   "metadata": {
    "execution": {
     "iopub.execute_input": "2022-06-23T00:03:11.105832Z",
     "iopub.status.busy": "2022-06-23T00:03:11.105020Z",
     "iopub.status.idle": "2022-06-23T00:03:11.112864Z",
     "shell.execute_reply": "2022-06-23T00:03:11.111974Z"
    },
    "papermill": {
     "duration": 0.023758,
     "end_time": "2022-06-23T00:03:11.114906",
     "exception": false,
     "start_time": "2022-06-23T00:03:11.091148",
     "status": "completed"
    },
    "tags": []
   },
   "outputs": [
    {
     "data": {
      "application/javascript": [
       "parent.postMessage({\"jupyterEvent\": \"custom.exercise_interaction\", \"data\": {\"interactionType\": 3, \"questionType\": 4, \"questionId\": \"3.2_ThinkBlueScatter\", \"learnToolsVersion\": \"0.3.4\", \"valueTowardsCompletion\": 0.0, \"failureMessage\": \"\", \"exceptionClass\": \"\", \"trace\": \"\", \"outcomeType\": 4}}, \"*\")"
      ],
      "text/plain": [
       "<IPython.core.display.Javascript object>"
      ]
     },
     "metadata": {},
     "output_type": "display_data"
    },
    {
     "data": {
      "text/markdown": [
       "<span style=\"color:#33cc99\">Solution:</span> The scatter plot does not show a strong correlation between the two variables. Since there is no clear relationship between the two variables, this tells us that sugar content does not play a strong role in candy popularity."
      ],
      "text/plain": [
       "Solution: The scatter plot does not show a strong correlation between the two variables. Since there is no clear relationship between the two variables, this tells us that sugar content does not play a strong role in candy popularity."
      ]
     },
     "metadata": {},
     "output_type": "display_data"
    }
   ],
   "source": [
    "# Check your answer (Run this code cell to receive credit!)\n",
    "step_3.b.solution()"
   ]
  },
  {
   "cell_type": "markdown",
   "id": "554b9454",
   "metadata": {
    "papermill": {
     "duration": 0.011859,
     "end_time": "2022-06-23T00:03:11.138828",
     "exception": false,
     "start_time": "2022-06-23T00:03:11.126969",
     "status": "completed"
    },
    "tags": []
   },
   "source": [
    "## Step 4: Take a closer look\n",
    "\n",
    "#### Part A\n",
    "\n",
    "Create the same scatter plot you created in **Step 3**, but now with a regression line!"
   ]
  },
  {
   "cell_type": "code",
   "execution_count": 12,
   "id": "85f6d828",
   "metadata": {
    "execution": {
     "iopub.execute_input": "2022-06-23T00:03:11.164732Z",
     "iopub.status.busy": "2022-06-23T00:03:11.164313Z",
     "iopub.status.idle": "2022-06-23T00:03:11.490945Z",
     "shell.execute_reply": "2022-06-23T00:03:11.489738Z"
    },
    "papermill": {
     "duration": 0.342886,
     "end_time": "2022-06-23T00:03:11.493810",
     "exception": false,
     "start_time": "2022-06-23T00:03:11.150924",
     "status": "completed"
    },
    "tags": []
   },
   "outputs": [
    {
     "data": {
      "application/javascript": [
       "parent.postMessage({\"jupyterEvent\": \"custom.exercise_interaction\", \"data\": {\"outcomeType\": 1, \"valueTowardsCompletion\": 0.3333333333333333, \"interactionType\": 1, \"questionType\": 2, \"questionId\": \"4.1_PlotBlueReg\", \"learnToolsVersion\": \"0.3.4\", \"failureMessage\": \"\", \"exceptionClass\": \"\", \"trace\": \"\"}}, \"*\")"
      ],
      "text/plain": [
       "<IPython.core.display.Javascript object>"
      ]
     },
     "metadata": {},
     "output_type": "display_data"
    },
    {
     "data": {
      "text/markdown": [
       "<span style=\"color:#33cc33\">Correct</span>"
      ],
      "text/plain": [
       "Correct"
      ]
     },
     "metadata": {},
     "output_type": "display_data"
    },
    {
     "data": {
      "image/png": "[encoded data removed]",
      "text/plain": [
       "<Figure size 432x288 with 1 Axes>"
      ]
     },
     "metadata": {
      "needs_background": "light"
     },
     "output_type": "display_data"
    }
   ],
   "source": [
    "# Scatter plot w/ regression line showing the relationship between 'sugarpercent' and 'winpercent'\n",
    "sns.regplot(x=candy_data[\"sugarpercent\"],y=candy_data[\"winpercent\"]) # Your code here\n",
    "\n",
    "# Check your answer\n",
    "step_4.a.check()"
   ]
  },
  {
   "cell_type": "code",
   "execution_count": 13,
   "id": "15c41171",
   "metadata": {
    "execution": {
     "iopub.execute_input": "2022-06-23T00:03:11.522815Z",
     "iopub.status.busy": "2022-06-23T00:03:11.522351Z",
     "iopub.status.idle": "2022-06-23T00:03:11.527828Z",
     "shell.execute_reply": "2022-06-23T00:03:11.526700Z"
    },
    "papermill": {
     "duration": 0.023629,
     "end_time": "2022-06-23T00:03:11.530889",
     "exception": false,
     "start_time": "2022-06-23T00:03:11.507260",
     "status": "completed"
    },
    "tags": []
   },
   "outputs": [],
   "source": [
    "# Lines below will give you a hint or solution code\n",
    "#step_4.a.hint()\n",
    "#step_4.a.solution_plot()"
   ]
  },
  {
   "cell_type": "markdown",
   "id": "7337808d",
   "metadata": {
    "papermill": {
     "duration": 0.012897,
     "end_time": "2022-06-23T00:03:11.557991",
     "exception": false,
     "start_time": "2022-06-23T00:03:11.545094",
     "status": "completed"
    },
    "tags": []
   },
   "source": [
    "#### Part B\n",
    "\n",
    "According to the plot above, is there a **slight** correlation between `'winpercent'` and `'sugarpercent'`?  What does this tell you about the candy that people tend to prefer?"
   ]
  },
  {
   "cell_type": "code",
   "execution_count": 14,
   "id": "16487219",
   "metadata": {
    "execution": {
     "iopub.execute_input": "2022-06-23T00:03:11.586516Z",
     "iopub.status.busy": "2022-06-23T00:03:11.586113Z",
     "iopub.status.idle": "2022-06-23T00:03:11.590902Z",
     "shell.execute_reply": "2022-06-23T00:03:11.589917Z"
    },
    "papermill": {
     "duration": 0.022004,
     "end_time": "2022-06-23T00:03:11.593469",
     "exception": false,
     "start_time": "2022-06-23T00:03:11.571465",
     "status": "completed"
    },
    "tags": []
   },
   "outputs": [],
   "source": [
    "#step_4.b.hint()"
   ]
  },
  {
   "cell_type": "code",
   "execution_count": 15,
   "id": "abdd7ddd",
   "metadata": {
    "execution": {
     "iopub.execute_input": "2022-06-23T00:03:11.623782Z",
     "iopub.status.busy": "2022-06-23T00:03:11.623372Z",
     "iopub.status.idle": "2022-06-23T00:03:11.633678Z",
     "shell.execute_reply": "2022-06-23T00:03:11.632518Z"
    },
    "papermill": {
     "duration": 0.028651,
     "end_time": "2022-06-23T00:03:11.636449",
     "exception": false,
     "start_time": "2022-06-23T00:03:11.607798",
     "status": "completed"
    },
    "tags": []
   },
   "outputs": [
    {
     "data": {
      "application/javascript": [
       "parent.postMessage({\"jupyterEvent\": \"custom.exercise_interaction\", \"data\": {\"interactionType\": 3, \"questionType\": 4, \"questionId\": \"4.2_ThinkBlueReg\", \"learnToolsVersion\": \"0.3.4\", \"valueTowardsCompletion\": 0.0, \"failureMessage\": \"\", \"exceptionClass\": \"\", \"trace\": \"\", \"outcomeType\": 4}}, \"*\")"
      ],
      "text/plain": [
       "<IPython.core.display.Javascript object>"
      ]
     },
     "metadata": {},
     "output_type": "display_data"
    },
    {
     "data": {
      "text/markdown": [
       "<span style=\"color:#33cc99\">Solution:</span> Since the regression line has a slightly positive slope, this tells us that there is a slightly positive correlation between `'winpercent'` and `'sugarpercent'`. Thus, people have a slight preference for candies containing relatively more sugar."
      ],
      "text/plain": [
       "Solution: Since the regression line has a slightly positive slope, this tells us that there is a slightly positive correlation between `'winpercent'` and `'sugarpercent'`. Thus, people have a slight preference for candies containing relatively more sugar."
      ]
     },
     "metadata": {},
     "output_type": "display_data"
    }
   ],
   "source": [
    "# Check your answer (Run this code cell to receive credit!)\n",
    "step_4.b.solution()"
   ]
  },
  {
   "cell_type": "markdown",
   "id": "a7987def",
   "metadata": {
    "papermill": {
     "duration": 0.013437,
     "end_time": "2022-06-23T00:03:11.664389",
     "exception": false,
     "start_time": "2022-06-23T00:03:11.650952",
     "status": "completed"
    },
    "tags": []
   },
   "source": [
    "## Step 5: Chocolate!\n",
    "\n",
    "In the code cell below, create a scatter plot to show the relationship between `'pricepercent'` (on the horizontal x-axis) and `'winpercent'` (on the vertical y-axis). Use the `'chocolate'` column to color-code the points.  _Don't add any regression lines just yet -- you'll do that in the next step!_"
   ]
  },
  {
   "cell_type": "code",
   "execution_count": 16,
   "id": "7d0eb79f",
   "metadata": {
    "execution": {
     "iopub.execute_input": "2022-06-23T00:03:11.693760Z",
     "iopub.status.busy": "2022-06-23T00:03:11.693356Z",
     "iopub.status.idle": "2022-06-23T00:03:11.965474Z",
     "shell.execute_reply": "2022-06-23T00:03:11.963866Z"
    },
    "papermill": {
     "duration": 0.290165,
     "end_time": "2022-06-23T00:03:11.968314",
     "exception": false,
     "start_time": "2022-06-23T00:03:11.678149",
     "status": "completed"
    },
    "tags": []
   },
   "outputs": [
    {
     "data": {
      "application/javascript": [
       "parent.postMessage({\"jupyterEvent\": \"custom.exercise_interaction\", \"data\": {\"outcomeType\": 1, \"valueTowardsCompletion\": 0.3333333333333333, \"interactionType\": 1, \"questionType\": 2, \"questionId\": \"5_ColorScatter\", \"learnToolsVersion\": \"0.3.4\", \"failureMessage\": \"\", \"exceptionClass\": \"\", \"trace\": \"\"}}, \"*\")"
      ],
      "text/plain": [
       "<IPython.core.display.Javascript object>"
      ]
     },
     "metadata": {},
     "output_type": "display_data"
    },
    {
     "data": {
      "text/markdown": [
       "<span style=\"color:#33cc33\">Correct</span>"
      ],
      "text/plain": [
       "Correct"
      ]
     },
     "metadata": {},
     "output_type": "display_data"
    },
    {
     "data": {
      "image/png": "[encoded data removed]",
      "text/plain": [
       "<Figure size 432x288 with 1 Axes>"
      ]
     },
     "metadata": {
      "needs_background": "light"
     },
     "output_type": "display_data"
    }
   ],
   "source": [
    "# Scatter plot showing the relationship between 'pricepercent', 'winpercent', and 'chocolate'\n",
    "sns.scatterplot(x=candy_data['pricepercent'],y=candy_data['winpercent'],hue=candy_data['chocolate']) # Your code here\n",
    "\n",
    "# Check your answer\n",
    "step_5.check()"
   ]
  },
  {
   "cell_type": "code",
   "execution_count": 17,
   "id": "40c3c534",
   "metadata": {
    "execution": {
     "iopub.execute_input": "2022-06-23T00:03:12.000940Z",
     "iopub.status.busy": "2022-06-23T00:03:12.000430Z",
     "iopub.status.idle": "2022-06-23T00:03:12.005628Z",
     "shell.execute_reply": "2022-06-23T00:03:12.004262Z"
    },
    "papermill": {
     "duration": 0.02513,
     "end_time": "2022-06-23T00:03:12.009086",
     "exception": false,
     "start_time": "2022-06-23T00:03:11.983956",
     "status": "completed"
    },
    "tags": []
   },
   "outputs": [],
   "source": [
    "# Lines below will give you a hint or solution code\n",
    "#step_5.hint()\n",
    "#step_5.solution_plot()"
   ]
  },
  {
   "cell_type": "markdown",
   "id": "ebb02060",
   "metadata": {
    "papermill": {
     "duration": 0.014235,
     "end_time": "2022-06-23T00:03:12.039783",
     "exception": false,
     "start_time": "2022-06-23T00:03:12.025548",
     "status": "completed"
    },
    "tags": []
   },
   "source": [
    "Can you see any interesting patterns in the scatter plot?  We'll investigate this plot further  by adding regression lines in the next step!\n",
    "\n",
    "## Step 6: Investigate chocolate\n",
    "\n",
    "#### Part A\n",
    "\n",
    "Create the same scatter plot you created in **Step 5**, but now with two regression lines, corresponding to (1) chocolate candies and (2) candies without chocolate."
   ]
  },
  {
   "cell_type": "code",
   "execution_count": 18,
   "id": "81b0a4b6",
   "metadata": {
    "execution": {
     "iopub.execute_input": "2022-06-23T00:03:12.072478Z",
     "iopub.status.busy": "2022-06-23T00:03:12.071177Z",
     "iopub.status.idle": "2022-06-23T00:03:12.715628Z",
     "shell.execute_reply": "2022-06-23T00:03:12.714649Z"
    },
    "papermill": {
     "duration": 0.663536,
     "end_time": "2022-06-23T00:03:12.718365",
     "exception": false,
     "start_time": "2022-06-23T00:03:12.054829",
     "status": "completed"
    },
    "tags": []
   },
   "outputs": [
    {
     "data": {
      "application/javascript": [
       "parent.postMessage({\"jupyterEvent\": \"custom.exercise_interaction\", \"data\": {\"outcomeType\": 1, \"valueTowardsCompletion\": 0.3333333333333333, \"interactionType\": 1, \"questionType\": 2, \"questionId\": \"6.1_PlotColorReg\", \"learnToolsVersion\": \"0.3.4\", \"failureMessage\": \"\", \"exceptionClass\": \"\", \"trace\": \"\"}}, \"*\")"
      ],
      "text/plain": [
       "<IPython.core.display.Javascript object>"
      ]
     },
     "metadata": {},
     "output_type": "display_data"
    },
    {
     "data": {
      "text/markdown": [
       "<span style=\"color:#33cc33\">Correct</span>"
      ],
      "text/plain": [
       "Correct"
      ]
     },
     "metadata": {},
     "output_type": "display_data"
    },
    {
     "data": {
      "image/png": "[encoded data removed]",
      "text/plain": [
       "<Figure size 416.375x360 with 1 Axes>"
      ]
     },
     "metadata": {
      "needs_background": "light"
     },
     "output_type": "display_data"
    }
   ],
   "source": [
    "# Color-coded scatter plot w/ regression lines\n",
    "sns.lmplot(x=\"pricepercent\",y=\"winpercent\",hue=\"chocolate\",data=candy_data) # Your code here\n",
    "\n",
    "# Check your answer\n",
    "step_6.a.check()"
   ]
  },
  {
   "cell_type": "code",
   "execution_count": 19,
   "id": "1f6c6a47",
   "metadata": {
    "execution": {
     "iopub.execute_input": "2022-06-23T00:03:12.751632Z",
     "iopub.status.busy": "2022-06-23T00:03:12.750699Z",
     "iopub.status.idle": "2022-06-23T00:03:12.756937Z",
     "shell.execute_reply": "2022-06-23T00:03:12.755518Z"
    },
    "papermill": {
     "duration": 0.026725,
     "end_time": "2022-06-23T00:03:12.760226",
     "exception": false,
     "start_time": "2022-06-23T00:03:12.733501",
     "status": "completed"
    },
    "tags": []
   },
   "outputs": [],
   "source": [
    "# Lines below will give you a hint or solution code\n",
    "#step_6.a.hint()\n",
    "#step_6.a.solution_plot()"
   ]
  },
  {
   "cell_type": "markdown",
   "id": "12e23c37",
   "metadata": {
    "papermill": {
     "duration": 0.014005,
     "end_time": "2022-06-23T00:03:12.789293",
     "exception": false,
     "start_time": "2022-06-23T00:03:12.775288",
     "status": "completed"
    },
    "tags": []
   },
   "source": [
    "#### Part B\n",
    "\n",
    "Using the regression lines, what conclusions can you draw about the effects of chocolate and price on candy popularity?"
   ]
  },
  {
   "cell_type": "code",
   "execution_count": 20,
   "id": "a663f395",
   "metadata": {
    "execution": {
     "iopub.execute_input": "2022-06-23T00:03:12.820322Z",
     "iopub.status.busy": "2022-06-23T00:03:12.819824Z",
     "iopub.status.idle": "2022-06-23T00:03:12.824025Z",
     "shell.execute_reply": "2022-06-23T00:03:12.823107Z"
    },
    "papermill": {
     "duration": 0.022933,
     "end_time": "2022-06-23T00:03:12.826456",
     "exception": false,
     "start_time": "2022-06-23T00:03:12.803523",
     "status": "completed"
    },
    "tags": []
   },
   "outputs": [],
   "source": [
    "#step_6.b.hint()"
   ]
  },
  {
   "cell_type": "code",
   "execution_count": 21,
   "id": "5a21a45d",
   "metadata": {
    "execution": {
     "iopub.execute_input": "2022-06-23T00:03:12.858412Z",
     "iopub.status.busy": "2022-06-23T00:03:12.857692Z",
     "iopub.status.idle": "2022-06-23T00:03:12.865411Z",
     "shell.execute_reply": "2022-06-23T00:03:12.864351Z"
    },
    "papermill": {
     "duration": 0.026522,
     "end_time": "2022-06-23T00:03:12.867722",
     "exception": false,
     "start_time": "2022-06-23T00:03:12.841200",
     "status": "completed"
    },
    "tags": []
   },
   "outputs": [
    {
     "data": {
      "application/javascript": [
       "parent.postMessage({\"jupyterEvent\": \"custom.exercise_interaction\", \"data\": {\"interactionType\": 3, \"questionType\": 4, \"questionId\": \"6.2_ThinkColorReg\", \"learnToolsVersion\": \"0.3.4\", \"valueTowardsCompletion\": 0.0, \"failureMessage\": \"\", \"exceptionClass\": \"\", \"trace\": \"\", \"outcomeType\": 4}}, \"*\")"
      ],
      "text/plain": [
       "<IPython.core.display.Javascript object>"
      ]
     },
     "metadata": {},
     "output_type": "display_data"
    },
    {
     "data": {
      "text/markdown": [
       "<span style=\"color:#33cc99\">Solution:</span> We'll begin with the regression line for chocolate candies. Since this line has a slightly positive slope, we can say that more expensive chocolate candies tend to be more popular (than relatively cheaper chocolate candies).  Likewise, since the regression line for candies without chocolate has a negative slope, we can say that if candies don't contain chocolate, they tend to be more popular when they are cheaper.  One important note, however, is that the dataset is quite small -- so we shouldn't invest too much trust in these patterns!  To inspire more confidence in the results, we should add more candies to the dataset."
      ],
      "text/plain": [
       "Solution: We'll begin with the regression line for chocolate candies. Since this line has a slightly positive slope, we can say that more expensive chocolate candies tend to be more popular (than relatively cheaper chocolate candies).  Likewise, since the regression line for candies without chocolate has a negative slope, we can say that if candies don't contain chocolate, they tend to be more popular when they are cheaper.  One important note, however, is that the dataset is quite small -- so we shouldn't invest too much trust in these patterns!  To inspire more confidence in the results, we should add more candies to the dataset."
      ]
     },
     "metadata": {},
     "output_type": "display_data"
    }
   ],
   "source": [
    "# Check your answer (Run this code cell to receive credit!)\n",
    "step_6.b.solution()"
   ]
  },
  {
   "cell_type": "markdown",
   "id": "dde06379",
   "metadata": {
    "papermill": {
     "duration": 0.014465,
     "end_time": "2022-06-23T00:03:12.897793",
     "exception": false,
     "start_time": "2022-06-23T00:03:12.883328",
     "status": "completed"
    },
    "tags": []
   },
   "source": [
    "## Step 7: Everybody loves chocolate.\n",
    "\n",
    "#### Part A\n",
    "\n",
    "Create a categorical scatter plot to highlight the relationship between `'chocolate'` and `'winpercent'`.  Put `'chocolate'` on the (horizontal) x-axis, and `'winpercent'` on the (vertical) y-axis."
   ]
  },
  {
   "cell_type": "code",
   "execution_count": 22,
   "id": "3a3136cf",
   "metadata": {
    "execution": {
     "iopub.execute_input": "2022-06-23T00:03:12.929845Z",
     "iopub.status.busy": "2022-06-23T00:03:12.929133Z",
     "iopub.status.idle": "2022-06-23T00:03:13.138962Z",
     "shell.execute_reply": "2022-06-23T00:03:13.137350Z"
    },
    "papermill": {
     "duration": 0.229671,
     "end_time": "2022-06-23T00:03:13.142206",
     "exception": false,
     "start_time": "2022-06-23T00:03:12.912535",
     "status": "completed"
    },
    "tags": []
   },
   "outputs": [
    {
     "data": {
      "application/javascript": [
       "parent.postMessage({\"jupyterEvent\": \"custom.exercise_interaction\", \"data\": {\"outcomeType\": 1, \"valueTowardsCompletion\": 0.3333333333333333, \"interactionType\": 1, \"questionType\": 2, \"questionId\": \"7.1_PlotSwarm\", \"learnToolsVersion\": \"0.3.4\", \"failureMessage\": \"\", \"exceptionClass\": \"\", \"trace\": \"\"}}, \"*\")"
      ],
      "text/plain": [
       "<IPython.core.display.Javascript object>"
      ]
     },
     "metadata": {},
     "output_type": "display_data"
    },
    {
     "data": {
      "text/markdown": [
       "<span style=\"color:#33cc33\">Correct</span>"
      ],
      "text/plain": [
       "Correct"
      ]
     },
     "metadata": {},
     "output_type": "display_data"
    },
    {
     "data": {
      "image/png": "[encoded data removed]",
      "text/plain": [
       "<Figure size 432x288 with 1 Axes>"
      ]
     },
     "metadata": {
      "needs_background": "light"
     },
     "output_type": "display_data"
    }
   ],
   "source": [
    "# Scatter plot showing the relationship between 'chocolate' and 'winpercent'\n",
    "sns.swarmplot(x=candy_data[\"chocolate\"],y=candy_data[\"winpercent\"]) # Your code here\n",
    "\n",
    "# Check your answer\n",
    "step_7.a.check()"
   ]
  },
  {
   "cell_type": "code",
   "execution_count": 23,
   "id": "3ab40f3a",
   "metadata": {
    "execution": {
     "iopub.execute_input": "2022-06-23T00:03:13.177142Z",
     "iopub.status.busy": "2022-06-23T00:03:13.175568Z",
     "iopub.status.idle": "2022-06-23T00:03:13.181870Z",
     "shell.execute_reply": "2022-06-23T00:03:13.180303Z"
    },
    "papermill": {
     "duration": 0.026834,
     "end_time": "2022-06-23T00:03:13.184618",
     "exception": false,
     "start_time": "2022-06-23T00:03:13.157784",
     "status": "completed"
    },
    "tags": []
   },
   "outputs": [],
   "source": [
    "# Lines below will give you a hint or solution code\n",
    "#step_7.a.hint()\n",
    "#step_7.a.solution_plot()"
   ]
  },
  {
   "cell_type": "markdown",
   "id": "27a03c0d",
   "metadata": {
    "papermill": {
     "duration": 0.015303,
     "end_time": "2022-06-23T00:03:13.216470",
     "exception": false,
     "start_time": "2022-06-23T00:03:13.201167",
     "status": "completed"
    },
    "tags": []
   },
   "source": [
    "#### Part B\n",
    "\n",
    "You decide to dedicate a section of your report to the fact that chocolate candies tend to be more popular than candies without chocolate.  Which plot is more appropriate to tell this story: the plot from **Step 6**, or the plot from **Step 7**?"
   ]
  },
  {
   "cell_type": "code",
   "execution_count": 24,
   "id": "b90934b0",
   "metadata": {
    "execution": {
     "iopub.execute_input": "2022-06-23T00:03:13.251321Z",
     "iopub.status.busy": "2022-06-23T00:03:13.250639Z",
     "iopub.status.idle": "2022-06-23T00:03:13.257883Z",
     "shell.execute_reply": "2022-06-23T00:03:13.256046Z"
    },
    "papermill": {
     "duration": 0.02931,
     "end_time": "2022-06-23T00:03:13.261995",
     "exception": false,
     "start_time": "2022-06-23T00:03:13.232685",
     "status": "completed"
    },
    "tags": []
   },
   "outputs": [],
   "source": [
    "#step_7.b.hint()"
   ]
  },
  {
   "cell_type": "code",
   "execution_count": 25,
   "id": "63675474",
   "metadata": {
    "execution": {
     "iopub.execute_input": "2022-06-23T00:03:13.301520Z",
     "iopub.status.busy": "2022-06-23T00:03:13.300327Z",
     "iopub.status.idle": "2022-06-23T00:03:13.310779Z",
     "shell.execute_reply": "2022-06-23T00:03:13.309364Z"
    },
    "papermill": {
     "duration": 0.031045,
     "end_time": "2022-06-23T00:03:13.313748",
     "exception": false,
     "start_time": "2022-06-23T00:03:13.282703",
     "status": "completed"
    },
    "tags": []
   },
   "outputs": [
    {
     "data": {
      "application/javascript": [
       "parent.postMessage({\"jupyterEvent\": \"custom.exercise_interaction\", \"data\": {\"interactionType\": 3, \"questionType\": 4, \"questionId\": \"7.2_ThinkSwarm\", \"learnToolsVersion\": \"0.3.4\", \"valueTowardsCompletion\": 0.0, \"failureMessage\": \"\", \"exceptionClass\": \"\", \"trace\": \"\", \"outcomeType\": 4}}, \"*\")"
      ],
      "text/plain": [
       "<IPython.core.display.Javascript object>"
      ]
     },
     "metadata": {},
     "output_type": "display_data"
    },
    {
     "data": {
      "text/markdown": [
       "<span style=\"color:#33cc99\">Solution:</span> In this case, the categorical scatter plot from **Step 7** is the more appropriate plot. While both plots tell the desired story, the plot from **Step 6** conveys far more information that could distract from the main point."
      ],
      "text/plain": [
       "Solution: In this case, the categorical scatter plot from **Step 7** is the more appropriate plot. While both plots tell the desired story, the plot from **Step 6** conveys far more information that could distract from the main point."
      ]
     },
     "metadata": {},
     "output_type": "display_data"
    }
   ],
   "source": [
    "# Check your answer (Run this code cell to receive credit!)\n",
    "step_7.b.solution()"
   ]
  },
  {
   "cell_type": "markdown",
   "id": "40d85d48",
   "metadata": {
    "papermill": {
     "duration": 0.015887,
     "end_time": "2022-06-23T00:03:13.346248",
     "exception": false,
     "start_time": "2022-06-23T00:03:13.330361",
     "status": "completed"
    },
    "tags": []
   },
   "source": [
    "## Keep going\n",
    "\n",
    "Explore **[histograms and density plots](https://www.kaggle.com/alexisbcook/distributions)**."
   ]
  },
  {
   "cell_type": "markdown",
   "id": "27974220",
   "metadata": {
    "papermill": {
     "duration": 0.015434,
     "end_time": "2022-06-23T00:03:13.377643",
     "exception": false,
     "start_time": "2022-06-23T00:03:13.362209",
     "status": "completed"
    },
    "tags": []
   },
   "source": [
    "---\n",
    "\n",
    "\n",
    "\n",
    "\n",
    "*Have questions or comments? Visit the [course discussion forum](https://www.kaggle.com/learn/data-visualization/discussion) to chat with other learners.*"
   ]
  }
 ],
 "metadata": {
  "kernelspec": {
   "display_name": "Python 3",
   "language": "python",
   "name": "python3"
  },
  "language_info": {
   "codemirror_mode": {
    "name": "ipython",
    "version": 3
   },
   "file_extension": ".py",
   "mimetype": "text/x-python",
   "name": "python",
   "nbconvert_exporter": "python",
   "pygments_lexer": "ipython3",
   "version": "3.7.12"
  },
  "papermill": {
   "default_parameters": {},
   "duration": 16.969694,
   "end_time": "2022-06-23T00:03:14.318425",
   "environment_variables": {},
   "exception": null,
   "input_path": "__notebook__.ipynb",
   "output_path": "__notebook__.ipynb",
   "parameters": {},
   "start_time": "2022-06-23T00:02:57.348731",
   "version": "2.3.4"
  }
 },
 "nbformat": 4,
 "nbformat_minor": 5
}
